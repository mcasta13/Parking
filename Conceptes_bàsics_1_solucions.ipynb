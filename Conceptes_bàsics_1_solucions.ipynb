{
  "nbformat": 4,
  "nbformat_minor": 0,
  "metadata": {
    "colab": {
      "provenance": [],
      "collapsed_sections": [],
      "authorship_tag": "ABX9TyN1Bjc0NCSKKd3IF9rcJAuS",
      "include_colab_link": true
    },
    "kernelspec": {
      "name": "python3",
      "display_name": "Python 3"
    },
    "language_info": {
      "name": "python"
    }
  },
  "cells": [
    {
      "cell_type": "markdown",
      "metadata": {
        "id": "view-in-github",
        "colab_type": "text"
      },
      "source": [
        "<a href=\"https://colab.research.google.com/github/mcasta13/Parking/blob/master/Conceptes_b%C3%A0sics_1_solucions.ipynb\" target=\"_parent\"><img src=\"https://colab.research.google.com/assets/colab-badge.svg\" alt=\"Open In Colab\"/></a>"
      ]
    },
    {
      "cell_type": "markdown",
      "source": [
        "**PROGRAMA 1**\n",
        "A la pantalla apareix la teva salutació. "
      ],
      "metadata": {
        "id": "On8Gs_v1cx3Z"
      }
    },
    {
      "cell_type": "code",
      "source": [
        "print ( \"Hola em dic Marta i estic a l'Institut Valldemossa\" )"
      ],
      "metadata": {
        "id": "4F0LxoSrc7tV"
      },
      "execution_count": null,
      "outputs": []
    },
    {
      "cell_type": "markdown",
      "source": [
        "**PROGRAMA 2** \n",
        "El programa farà el següent: \n",
        "\n",
        "1.  Mostrarà un missatge indicant que és un programa per elaborar una \n",
        "salutació.\n",
        "2. Sol·licitarà el nom de la persona que està usant el programa.\n",
        "3. Preguntarà el país de naixement \n",
        "4. Preguntarà l’edat ( quants anys tens?) \n",
        "5. Mostrarà un missatge : Hola , -----, tens ----- anys i has nascut a -----------\n",
        "Posa un comentari on expliquis el que fa el programa \n"
      ],
      "metadata": {
        "id": "GkilML1edViC"
      }
    },
    {
      "cell_type": "code",
      "source": [
        "#defineixo input de 3 variables , per tal que l'usuari escrigui.\n",
        "print(\"Aquest programa et donarà la benvinguda\")\n",
        "nom= input(\"com et dius? \")\n",
        "pais= input (\"on vius? \")\n",
        "edat= input (\"quants anys tens?\")\n",
        "print(\"Hola\", nom,\"vius a\", pais,\"i tens\", edat, \"anys\")\n"
      ],
      "metadata": {
        "id": "TO05tlnmeo3Z"
      },
      "execution_count": null,
      "outputs": []
    },
    {
      "cell_type": "markdown",
      "source": [
        "**PROGRAMA 3**\n",
        "Definim les dades: \n",
        "n1= 3.2   , n2=121   ,     n3= -4     ,     n4=”cargol”\n",
        "Investiga quin tipus de dades són hauràs d’utilitzar la instrucció “type”.\n",
        "No oblidis fer comentaris ! \n"
      ],
      "metadata": {
        "id": "SHeWHj6omOIE"
      }
    },
    {
      "cell_type": "code",
      "source": [
        "N1=3.2\n",
        "type(N1)"
      ],
      "metadata": {
        "id": "gJwzlJmgpNie"
      },
      "execution_count": null,
      "outputs": []
    },
    {
      "cell_type": "markdown",
      "source": [
        "**PROGRAMA 4**\n",
        "Has d'escriure un programa que sol·liciti a l'usuari ingressar un nombre amb decimals i emmagatzema'l en una variable. A continuació, el programa ha de sol·licitar a l'usuari que introdueixi un nombre enter i desar-lo en una altra variable. En una tercera variable s'haurà de desar el resultat de la suma dels dos números ingressats per l'usuari. Finalment, cal mostrar en pantalla el text “El resultat de la suma és [suma]”, on “[suma]” es reemplaçarà pel resultat de l'operació."
      ],
      "metadata": {
        "id": "551SOWs9UZvS"
      }
    },
    {
      "cell_type": "code",
      "source": [
        "a=float(input(\"Primer número amb decimals :\"))\n",
        "b=int(input(\"Segon número sencer :\"))\n",
        "c=a+b\n",
        "print(\"El resultat  de la suma es\", c)"
      ],
      "metadata": {
        "id": "BwokR1CxUMHP"
      },
      "execution_count": null,
      "outputs": []
    },
    {
      "cell_type": "markdown",
      "source": [
        "**PROGRAMA 5**\n",
        "Has d'escriure un programa que sol·liciti a l'usuari ingressar un nombre amb decimals i emmagatzema'l en una variable. A continuació, el programa ha de sol·licitar a l'usuari que introdueixi un nombre enter i desar-lo en una altra variable. En una tercera variable s'haurà de desar el resultat de la suma dels dos números ingressats per l'usuari. Finalment, cal mostrar en pantalla el text “El resultat de la suma és [suma]”, on “[suma]” es reemplaçarà pel resultat de l'operació.\n"
      ],
      "metadata": {
        "id": "4A-n-0MPWQW4"
      }
    },
    {
      "cell_type": "code",
      "source": [
        "n1=int(input(\"Ingresa un número:\"))\n",
        "n2=int(input(\"Ingresa un altre número:\"))\n",
        "suma=n1+n2\n",
        "print(\"Sumen:\", suma)\n",
        "n3=int(input(\"Ingresa un nou número:\"))\n",
        "print(\"Multiplicació de la suma per últim nombre:\",suma*n3)"
      ],
      "metadata": {
        "id": "5YrB5P3vW4Pk"
      },
      "execution_count": null,
      "outputs": []
    },
    {
      "cell_type": "markdown",
      "source": [
        "**PROGRAMA 6**\n",
        "\n",
        "Escriu un programa que sol·liciti a l'usuari ingressar la quantitat de quilòmetres recorreguts per una motocicleta i la quantitat de litres de combustible que va consumir durant aquest recorregut. Mostrar el consum de combustible per quilòmetre.\n"
      ],
      "metadata": {
        "id": "V7QockPKYZzD"
      }
    },
    {
      "cell_type": "code",
      "source": [
        "kilometres=float(input(\"Kilómetres recorreguts:\"))\n",
        "litres=float(input(\"Litres de combustible gastats:\"))\n",
        "print(\"El consum por kilómetre és de\", kilometres/litres)"
      ],
      "metadata": {
        "id": "YXT2DOFtY0BR"
      },
      "execution_count": null,
      "outputs": []
    },
    {
      "cell_type": "markdown",
      "source": [
        "**PROGRAMA 7**\n",
        "\n",
        "Escriu un programa que sol·liciti a l'usuari ingressar tres números per després mostrar-li la mitjana de tots tres."
      ],
      "metadata": {
        "id": "Fn6YgSGnZvw_"
      }
    },
    {
      "cell_type": "code",
      "source": [
        "n1=float(input(\"Primer número:\"))\n",
        "n2=float(input(\"Segon número:\"))\n",
        "n3=float(input(\"Tercer número:\"))\n",
        "print(\"La mitjana  dels tres és\", (n1+n2+n3)/3)"
      ],
      "metadata": {
        "colab": {
          "base_uri": "https://localhost:8080/"
        },
        "id": "E784aT7jZ75u",
        "outputId": "b3c46f1e-7292-4496-92cd-5bff52361132"
      },
      "execution_count": null,
      "outputs": [
        {
          "output_type": "stream",
          "name": "stdout",
          "text": [
            "Primer número:23\n",
            "Segon número:45\n",
            "Tercer número:76\n",
            "La mitjana  dels tres és 48.0\n"
          ]
        }
      ]
    },
    {
      "cell_type": "markdown",
      "source": [
        "**PROGRAMA 8**\n",
        "\n",
        "Escriu un programa que sol·liciti a l'usuari l'ingrés d'una temperatura a escala Fahrenheit (ha de permetre decimals) i mostri l'equivalent en graus Celsius. La fórmula de conversió que s'usa per a aquest càlcul és: _Celsius = (5/9) * (Fahrenheit-32)_"
      ],
      "metadata": {
        "id": "AgqO9w41bdGY"
      }
    },
    {
      "cell_type": "code",
      "source": [
        "Fahrenheit=float(input(\"Entra una temperatura expressada en Fahrenheit:\"))\n",
        "print((5/9) * (Fahrenheit-32))"
      ],
      "metadata": {
        "id": "SFfnsi8Ubmmo"
      },
      "execution_count": null,
      "outputs": []
    },
    {
      "cell_type": "markdown",
      "source": [
        "**PROGRAMA 9**\n",
        "Escriu  un programa que sol·liciti a l'usuari un número i li resti el 15%, emmagatzemant-ho tot en una única variable. A continuació, mostrar el resultat final a la pantalla."
      ],
      "metadata": {
        "id": "auPusX4DwKRP"
      }
    },
    {
      "cell_type": "code",
      "source": [
        "numero=int(input(\"Entra un número:\"))\n",
        "print(\"Descontant  el 15% queda:\", numero-(numero*15)/100)"
      ],
      "metadata": {
        "id": "sm2mXf2CwgKm"
      },
      "execution_count": null,
      "outputs": []
    },
    {
      "cell_type": "markdown",
      "source": [
        "**PROGRAMA 10**\n",
        "Escriu un programa que sol·liciti a l'usuari l'ingrés d'un text i emmagatzemi aquest text en una variable.\n",
        " A continuació, mostrar a la pantalla la primera lletra del text ingressat. \n",
        "Després, sol·licitar a l'usuari que ingressi un nombre positiu menor a la quantitat de caràcters que té el text que va ingressar (per exemple, si va escriure la paraula “HOLA”, haurà de ser un número entre 0 i 4) i emmagatzemar aquest número en una variable anomenada índex.\n",
        "Mostrar en pantalla el caràcter del text ubicat a la posició donada per índex.\n"
      ],
      "metadata": {
        "id": "htDYdDTW5cV5"
      }
    },
    {
      "cell_type": "code",
      "source": [
        "cadena=input(\"Escriu un text:\")\n",
        "print(\"El caràcter en primer lloc és:\", cadena[0])\n",
        "print(\"Escriu un número positiu menor a\", len(cadena))\n",
        "indice=int(input())\n",
        "print(\"El carácter en aquesta posició és:\", cadena[indice])"
      ],
      "metadata": {
        "id": "PjA6sWMV3XV6"
      },
      "execution_count": null,
      "outputs": []
    },
    {
      "cell_type": "markdown",
      "source": [
        "**PROGRAMA 11**\n",
        "Escriu un programa per sol·licitar a l'usuari l'ingrés d'un nombre enter i que després imprimeixi un valor CERT depenent de si el número és parell o no. Recordeu que un nombre és parell si la resta, en dividir-lo per 2, és 0.\n",
        "( recorda( numero%2) és residu de la divisió) "
      ],
      "metadata": {
        "id": "13BMx-iXGQiH"
      }
    },
    {
      "cell_type": "code",
      "source": [
        "numero=int(input(\"Número entero:\"))\n",
        "print((numero%2) == 0)"
      ],
      "metadata": {
        "id": "AocSmo2_GcRD"
      },
      "execution_count": null,
      "outputs": []
    },
    {
      "cell_type": "markdown",
      "source": [
        "**PROGRAMA 12**\n",
        "Escriure un programa que sol·liciti a l'usuari la seva edat i la guardi en una variable. Que després sol·liciti  la quantitat d'articles comprats en una botiga i la desi en una altra variable. Finalment, mostrar a la pantalla un valor de veritat (True o False) que indiqui si l'usuari és major de 18 anys i, a més, va comprar més d'1 article."
      ],
      "metadata": {
        "id": "6siBta0_IaoE"
      }
    },
    {
      "cell_type": "code",
      "source": [
        "Edat=int(input(\"La teva edat:\"))\n",
        "articles=int(input(\"Articles comprats:\"))\n",
        "print((Edat>18) and (articles>1))"
      ],
      "metadata": {
        "id": "UXciAM3HIm_6"
      },
      "execution_count": null,
      "outputs": []
    },
    {
      "cell_type": "markdown",
      "source": [
        "**PROGRAMA 13**\n",
        "Escriu un programa que, donada una cadena de text per l'usuari, imprimeix True si la quantitat de caràcters a la cadena és un nombre imparell, o False si no ho és."
      ],
      "metadata": {
        "id": "DfC_iPo_JRa6"
      }
    },
    {
      "cell_type": "code",
      "source": [
        "cadena=input(\"Escriu una frase:\")\n",
        "longitud=len(cadena)\n",
        "print(longitud%2 == 0)"
      ],
      "metadata": {
        "id": "Hvvu0DU0JbhE"
      },
      "execution_count": null,
      "outputs": []
    },
    {
      "cell_type": "markdown",
      "source": [
        "**PROGRAMA 14**\n",
        "Escriu el programa i analitza la resposta, posa comentaris explicatius.  \n"
      ],
      "metadata": {
        "id": "enxH54DcMOTG"
      }
    },
    {
      "cell_type": "code",
      "source": [
        "print('a' < 'b')  # 'a' has a smaller Unicode value\n",
        "\n",
        "house = \"Gryffindor\"\n",
        "house_copy = \"Gryffindor\"\n",
        "\n",
        "print(house == house_copy)\n",
        "\n",
        "new_house = \"Slytherin\"\n",
        "\n",
        "print(house == new_house)\n",
        "\n",
        "print(new_house <= house)\n",
        "\n",
        "print(new_house >= house)"
      ],
      "metadata": {
        "id": "_ZriPPGZLk_-"
      },
      "execution_count": null,
      "outputs": []
    },
    {
      "cell_type": "markdown",
      "source": [
        "**PROGRAMA 15**\n",
        "Escriu un programa per demanar a l'usuari el seu nom i després el nom d'una altra persona, emmagatzemant cada nom a una variable. Després mostrar a la pantalla un valor que indiqui si: els noms de les dues persones comencen amb la mateixa lletra o si acaben amb la mateixa lletra. \n",
        "Per exemple, si els noms ingressats són Maria i Marc, es mostrarà True, ja que tots dos comencen amb la mateixa lletra. Si els noms són Ricardo i Gonzalo es mostrarà True, ja que tots dos acaben amb la mateixa lletra. Si els noms són Florència i Lautaro es mostrarà False, ja que no coincideixen ni la primera ni la darrera lletra."
      ],
      "metadata": {
        "id": "su3ew7I8Nu9Y"
      }
    },
    {
      "cell_type": "code",
      "source": [
        "nombre1=input(\"Tu nombre:\")\n",
        "nombre2=input(\"Otro nombre:\")\n",
        "posicion_final_nombre1=len(nombre1)-1\n",
        "posicion_final_nombre2=len(nombre2)-1\n",
        "print((nombre1[0] == nombre2[0]) or (nombre1[posicion_final_nombre1] == nombre2[posicion_final_nombre2]))"
      ],
      "metadata": {
        "colab": {
          "base_uri": "https://localhost:8080/"
        },
        "id": "Iapyow01OJ7s",
        "outputId": "59a2dda6-7b38-468c-a28b-55f504f6e1a0"
      },
      "execution_count": 13,
      "outputs": [
        {
          "output_type": "stream",
          "name": "stdout",
          "text": [
            "Tu nombre:LUIS\n",
            "Otro nombre:MONTSE\n",
            "False\n"
          ]
        }
      ]
    }
  ]
}